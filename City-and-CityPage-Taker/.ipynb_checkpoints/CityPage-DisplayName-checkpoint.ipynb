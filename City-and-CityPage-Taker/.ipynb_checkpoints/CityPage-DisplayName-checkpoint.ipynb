{
 "cells": [
  {
   "cell_type": "code",
   "execution_count": 1,
   "id": "11284a68-7aab-448f-a042-3af08d25910e",
   "metadata": {},
   "outputs": [],
   "source": [
    "import pandas as pd"
   ]
  },
  {
   "cell_type": "code",
   "execution_count": 2,
   "id": "b751eaea-dd33-45b6-a028-d0db1e905276",
   "metadata": {},
   "outputs": [],
   "source": [
    "df = pd.read_csv('city_display.csv')"
   ]
  },
  {
   "cell_type": "code",
   "execution_count": 3,
   "id": "ef6c6ed8-9d2b-4a39-9959-9dda4ee20a36",
   "metadata": {},
   "outputs": [
    {
     "data": {
      "text/html": [
       "<div>\n",
       "<style scoped>\n",
       "    .dataframe tbody tr th:only-of-type {\n",
       "        vertical-align: middle;\n",
       "    }\n",
       "\n",
       "    .dataframe tbody tr th {\n",
       "        vertical-align: top;\n",
       "    }\n",
       "\n",
       "    .dataframe thead th {\n",
       "        text-align: right;\n",
       "    }\n",
       "</style>\n",
       "<table border=\"1\" class=\"dataframe\">\n",
       "  <thead>\n",
       "    <tr style=\"text-align: right;\">\n",
       "      <th></th>\n",
       "      <th>Unnamed: 0</th>\n",
       "      <th>city_page</th>\n",
       "    </tr>\n",
       "  </thead>\n",
       "  <tbody>\n",
       "    <tr>\n",
       "      <th>0</th>\n",
       "      <td>0</td>\n",
       "      <td>{'display_name': 'Binong, Indonesia', 'id': '1...</td>\n",
       "    </tr>\n",
       "    <tr>\n",
       "      <th>1</th>\n",
       "      <td>1</td>\n",
       "      <td>{'display_name': 'Jakarta, Indonesia', 'id': '...</td>\n",
       "    </tr>\n",
       "    <tr>\n",
       "      <th>2</th>\n",
       "      <td>2</td>\n",
       "      <td>{'display_name': 'Jakarta, Indonesia', 'id': '...</td>\n",
       "    </tr>\n",
       "    <tr>\n",
       "      <th>3</th>\n",
       "      <td>3</td>\n",
       "      <td>{'display_name': 'Sukabumi', 'id': '1129790253...</td>\n",
       "    </tr>\n",
       "    <tr>\n",
       "      <th>4</th>\n",
       "      <td>4</td>\n",
       "      <td>{'display_name': 'Bekasi', 'id': '112413425436...</td>\n",
       "    </tr>\n",
       "    <tr>\n",
       "      <th>...</th>\n",
       "      <td>...</td>\n",
       "      <td>...</td>\n",
       "    </tr>\n",
       "    <tr>\n",
       "      <th>711</th>\n",
       "      <td>711</td>\n",
       "      <td>{'display_name': 'Jakarta, Indonesia', 'id': '...</td>\n",
       "    </tr>\n",
       "    <tr>\n",
       "      <th>712</th>\n",
       "      <td>712</td>\n",
       "      <td>{'display_name': 'Tangerang', 'id': '107978652...</td>\n",
       "    </tr>\n",
       "    <tr>\n",
       "      <th>713</th>\n",
       "      <td>713</td>\n",
       "      <td>{'display_name': 'Bekasi', 'id': '112413425436...</td>\n",
       "    </tr>\n",
       "    <tr>\n",
       "      <th>714</th>\n",
       "      <td>714</td>\n",
       "      <td>{'display_name': 'Tangerang', 'id': '107978652...</td>\n",
       "    </tr>\n",
       "    <tr>\n",
       "      <th>715</th>\n",
       "      <td>715</td>\n",
       "      <td>{'display_name': 'Jakarta, Indonesia', 'id': '...</td>\n",
       "    </tr>\n",
       "  </tbody>\n",
       "</table>\n",
       "<p>716 rows × 2 columns</p>\n",
       "</div>"
      ],
      "text/plain": [
       "     Unnamed: 0                                          city_page\n",
       "0             0  {'display_name': 'Binong, Indonesia', 'id': '1...\n",
       "1             1  {'display_name': 'Jakarta, Indonesia', 'id': '...\n",
       "2             2  {'display_name': 'Jakarta, Indonesia', 'id': '...\n",
       "3             3  {'display_name': 'Sukabumi', 'id': '1129790253...\n",
       "4             4  {'display_name': 'Bekasi', 'id': '112413425436...\n",
       "..          ...                                                ...\n",
       "711         711  {'display_name': 'Jakarta, Indonesia', 'id': '...\n",
       "712         712  {'display_name': 'Tangerang', 'id': '107978652...\n",
       "713         713  {'display_name': 'Bekasi', 'id': '112413425436...\n",
       "714         714  {'display_name': 'Tangerang', 'id': '107978652...\n",
       "715         715  {'display_name': 'Jakarta, Indonesia', 'id': '...\n",
       "\n",
       "[716 rows x 2 columns]"
      ]
     },
     "execution_count": 3,
     "metadata": {},
     "output_type": "execute_result"
    }
   ],
   "source": [
    "df"
   ]
  },
  {
   "cell_type": "code",
   "execution_count": 14,
   "id": "d9b7edfd-ead8-4064-9f6e-478769c1b7d1",
   "metadata": {},
   "outputs": [],
   "source": [
    "df.drop(df.columns[df.columns.str.contains('unnamed',case = False)],axis = 1, inplace = True)"
   ]
  },
  {
   "cell_type": "code",
   "execution_count": 17,
   "id": "331c5f50-5e28-46f4-b7b4-2a634d090654",
   "metadata": {},
   "outputs": [],
   "source": [
    "df.to_csv('city_page.csv')"
   ]
  },
  {
   "cell_type": "code",
   "execution_count": 21,
   "id": "8316c796-3a49-4b09-ad05-d25658ba8ff0",
   "metadata": {},
   "outputs": [
    {
     "data": {
      "text/plain": [
       "city_page    {'display_name': 'Jakarta, Indonesia', 'id': '...\n",
       "Name: 1, dtype: object"
      ]
     },
     "execution_count": 21,
     "metadata": {},
     "output_type": "execute_result"
    }
   ],
   "source": []
  },
  {
   "cell_type": "code",
   "execution_count": null,
   "id": "835c858f-15bc-448d-8894-1164aaa859f7",
   "metadata": {},
   "outputs": [],
   "source": []
  }
 ],
 "metadata": {
  "kernelspec": {
   "display_name": "Python 3 (ipykernel)",
   "language": "python",
   "name": "python3"
  },
  "language_info": {
   "codemirror_mode": {
    "name": "ipython",
    "version": 3
   },
   "file_extension": ".py",
   "mimetype": "text/x-python",
   "name": "python",
   "nbconvert_exporter": "python",
   "pygments_lexer": "ipython3",
   "version": "3.12.7"
  }
 },
 "nbformat": 4,
 "nbformat_minor": 5
}
