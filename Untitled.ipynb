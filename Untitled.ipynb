{
 "cells": [
  {
   "cell_type": "code",
   "execution_count": 1,
   "id": "7392dab9-aab0-42a2-a9fa-10e4e46d3d39",
   "metadata": {},
   "outputs": [],
   "source": [
    "import pandas as pd"
   ]
  },
  {
   "cell_type": "code",
   "execution_count": 5,
   "id": "c01502fe-600c-4204-8d29-5ee1da702a64",
   "metadata": {},
   "outputs": [],
   "source": [
    "marketplace = pd.read_json('dataset_facebook-marketplace-scraper_2024-11-03_05-03-09-937.json')"
   ]
  },
  {
   "cell_type": "code",
   "execution_count": 6,
   "id": "88bd8de8-c7ef-4ce8-8e89-ea0521ae17b6",
   "metadata": {},
   "outputs": [],
   "source": [
    "location = marketplace['location']"
   ]
  },
  {
   "cell_type": "code",
   "execution_count": null,
   "id": "2fd7cc12-e546-42f3-a3b1-964970f36f56",
   "metadata": {},
   "outputs": [],
   "source": [
    "location.head()"
   ]
  },
  {
   "cell_type": "code",
   "execution_count": 5,
   "id": "f42a39d4-e45b-4ec1-a3b0-7cffd0c8ba5f",
   "metadata": {},
   "outputs": [
    {
     "name": "stdout",
     "output_type": "stream",
     "text": [
      "0      {'reverse_geocode': {'city': 'Tangerang Kabupa...\n",
      "1      {'reverse_geocode': {'city': 'Jakarta Pusat', ...\n",
      "2      {'reverse_geocode': {'city': 'Jakarta Selatan'...\n",
      "3      {'reverse_geocode': {'city': 'Sukabumi Kota', ...\n",
      "4      {'reverse_geocode': {'city': 'Bekasi Kota', 's...\n",
      "                             ...                        \n",
      "711    {'reverse_geocode': {'city': 'Jakarta Timur', ...\n",
      "712    {'reverse_geocode': {'city': 'Tangerang Kota',...\n",
      "713    {'reverse_geocode': {'city': 'Bekasi Kota', 's...\n",
      "714    {'reverse_geocode': {'city': 'Tangerang Kota',...\n",
      "715    {'reverse_geocode': {'city': 'Jakarta Pusat', ...\n",
      "Name: location, Length: 716, dtype: object\n"
     ]
    }
   ],
   "source": [
    "print(location)"
   ]
  },
  {
   "cell_type": "code",
   "execution_count": 7,
   "id": "b6ef9bca-435a-4128-917a-da016db49163",
   "metadata": {},
   "outputs": [
    {
     "data": {
      "text/plain": [
       "{'reverse_geocode': {'city': 'Jakarta Pusat',\n",
       "  'state': '',\n",
       "  'city_page': {'display_name': 'Jakarta, Indonesia',\n",
       "   'id': '102173726491792'}}}"
      ]
     },
     "execution_count": 7,
     "metadata": {},
     "output_type": "execute_result"
    }
   ],
   "source": [
    "location[1]"
   ]
  },
  {
   "cell_type": "code",
   "execution_count": 8,
   "id": "5d2e7116-4348-41ee-9d65-0a6a9ba3fc1e",
   "metadata": {},
   "outputs": [
    {
     "data": {
      "text/plain": [
       "pandas.core.series.Series"
      ]
     },
     "execution_count": 8,
     "metadata": {},
     "output_type": "execute_result"
    }
   ],
   "source": [
    "type(location)"
   ]
  },
  {
   "cell_type": "code",
   "execution_count": null,
   "id": "beaa7416-15c1-4e31-852b-57d0eb3ddaeb",
   "metadata": {},
   "outputs": [],
   "source": []
  }
 ],
 "metadata": {
  "kernelspec": {
   "display_name": "Python 3 (ipykernel)",
   "language": "python",
   "name": "python3"
  },
  "language_info": {
   "codemirror_mode": {
    "name": "ipython",
    "version": 3
   },
   "file_extension": ".py",
   "mimetype": "text/x-python",
   "name": "python",
   "nbconvert_exporter": "python",
   "pygments_lexer": "ipython3",
   "version": "3.12.7"
  }
 },
 "nbformat": 4,
 "nbformat_minor": 5
}
