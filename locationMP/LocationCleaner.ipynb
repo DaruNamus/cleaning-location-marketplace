{
 "cells": [
  {
   "cell_type": "code",
   "execution_count": 12,
   "id": "b6a1ee8d-1ddd-496f-b01f-8ba32730d7d7",
   "metadata": {},
   "outputs": [],
   "source": [
    "import pandas as pd"
   ]
  },
  {
   "cell_type": "code",
   "execution_count": 13,
   "id": "6ffdb298-5895-4d17-b8f4-13ab64d2b2d6",
   "metadata": {},
   "outputs": [],
   "source": [
    "df = pd.read_json('locationMP.json')"
   ]
  },
  {
   "cell_type": "code",
   "execution_count": 14,
   "id": "f4985f23-dede-405c-a6a8-45574c113477",
   "metadata": {},
   "outputs": [
    {
     "data": {
      "text/html": [
       "<div>\n",
       "<style scoped>\n",
       "    .dataframe tbody tr th:only-of-type {\n",
       "        vertical-align: middle;\n",
       "    }\n",
       "\n",
       "    .dataframe tbody tr th {\n",
       "        vertical-align: top;\n",
       "    }\n",
       "\n",
       "    .dataframe thead th {\n",
       "        text-align: right;\n",
       "    }\n",
       "</style>\n",
       "<table border=\"1\" class=\"dataframe\">\n",
       "  <thead>\n",
       "    <tr style=\"text-align: right;\">\n",
       "      <th></th>\n",
       "      <th>0</th>\n",
       "      <th>1</th>\n",
       "      <th>2</th>\n",
       "      <th>3</th>\n",
       "      <th>4</th>\n",
       "      <th>5</th>\n",
       "      <th>6</th>\n",
       "      <th>7</th>\n",
       "      <th>8</th>\n",
       "      <th>9</th>\n",
       "      <th>...</th>\n",
       "      <th>706</th>\n",
       "      <th>707</th>\n",
       "      <th>708</th>\n",
       "      <th>709</th>\n",
       "      <th>710</th>\n",
       "      <th>711</th>\n",
       "      <th>712</th>\n",
       "      <th>713</th>\n",
       "      <th>714</th>\n",
       "      <th>715</th>\n",
       "    </tr>\n",
       "  </thead>\n",
       "  <tbody>\n",
       "    <tr>\n",
       "      <th>reverse_geocode</th>\n",
       "      <td>{'city': 'Tangerang Kabupaten', 'state': '', '...</td>\n",
       "      <td>{'city': 'Jakarta Pusat', 'state': '', 'city_p...</td>\n",
       "      <td>{'city': 'Jakarta Selatan', 'state': '', 'city...</td>\n",
       "      <td>{'city': 'Sukabumi Kota', 'state': '', 'city_p...</td>\n",
       "      <td>{'city': 'Bekasi Kota', 'state': '', 'city_pag...</td>\n",
       "      <td>{'city': 'Tangerang Kota', 'state': '', 'city_...</td>\n",
       "      <td>{'city': 'Jakarta Timur', 'state': '', 'city_p...</td>\n",
       "      <td>{'city': 'Bogor Kabupaten', 'state': '', 'city...</td>\n",
       "      <td>{'city': 'Bekasi Kota', 'state': '', 'city_pag...</td>\n",
       "      <td>{'city': 'Jakarta Pusat', 'state': '', 'city_p...</td>\n",
       "      <td>...</td>\n",
       "      <td>{'city': 'Jakarta Barat', 'state': '', 'city_p...</td>\n",
       "      <td>{'city': 'Bekasi Kabupaten', 'state': '', 'cit...</td>\n",
       "      <td>{'city': 'Bogor Kota', 'state': '', 'city_page...</td>\n",
       "      <td>{'city': 'Tangerang Kota', 'state': '', 'city_...</td>\n",
       "      <td>{'city': 'Jakarta Pusat', 'state': '', 'city_p...</td>\n",
       "      <td>{'city': 'Jakarta Timur', 'state': '', 'city_p...</td>\n",
       "      <td>{'city': 'Tangerang Kota', 'state': '', 'city_...</td>\n",
       "      <td>{'city': 'Bekasi Kota', 'state': '', 'city_pag...</td>\n",
       "      <td>{'city': 'Tangerang Kota', 'state': '', 'city_...</td>\n",
       "      <td>{'city': 'Jakarta Pusat', 'state': '', 'city_p...</td>\n",
       "    </tr>\n",
       "  </tbody>\n",
       "</table>\n",
       "<p>1 rows × 716 columns</p>\n",
       "</div>"
      ],
      "text/plain": [
       "                                                               0    \\\n",
       "reverse_geocode  {'city': 'Tangerang Kabupaten', 'state': '', '...   \n",
       "\n",
       "                                                               1    \\\n",
       "reverse_geocode  {'city': 'Jakarta Pusat', 'state': '', 'city_p...   \n",
       "\n",
       "                                                               2    \\\n",
       "reverse_geocode  {'city': 'Jakarta Selatan', 'state': '', 'city...   \n",
       "\n",
       "                                                               3    \\\n",
       "reverse_geocode  {'city': 'Sukabumi Kota', 'state': '', 'city_p...   \n",
       "\n",
       "                                                               4    \\\n",
       "reverse_geocode  {'city': 'Bekasi Kota', 'state': '', 'city_pag...   \n",
       "\n",
       "                                                               5    \\\n",
       "reverse_geocode  {'city': 'Tangerang Kota', 'state': '', 'city_...   \n",
       "\n",
       "                                                               6    \\\n",
       "reverse_geocode  {'city': 'Jakarta Timur', 'state': '', 'city_p...   \n",
       "\n",
       "                                                               7    \\\n",
       "reverse_geocode  {'city': 'Bogor Kabupaten', 'state': '', 'city...   \n",
       "\n",
       "                                                               8    \\\n",
       "reverse_geocode  {'city': 'Bekasi Kota', 'state': '', 'city_pag...   \n",
       "\n",
       "                                                               9    ...  \\\n",
       "reverse_geocode  {'city': 'Jakarta Pusat', 'state': '', 'city_p...  ...   \n",
       "\n",
       "                                                               706  \\\n",
       "reverse_geocode  {'city': 'Jakarta Barat', 'state': '', 'city_p...   \n",
       "\n",
       "                                                               707  \\\n",
       "reverse_geocode  {'city': 'Bekasi Kabupaten', 'state': '', 'cit...   \n",
       "\n",
       "                                                               708  \\\n",
       "reverse_geocode  {'city': 'Bogor Kota', 'state': '', 'city_page...   \n",
       "\n",
       "                                                               709  \\\n",
       "reverse_geocode  {'city': 'Tangerang Kota', 'state': '', 'city_...   \n",
       "\n",
       "                                                               710  \\\n",
       "reverse_geocode  {'city': 'Jakarta Pusat', 'state': '', 'city_p...   \n",
       "\n",
       "                                                               711  \\\n",
       "reverse_geocode  {'city': 'Jakarta Timur', 'state': '', 'city_p...   \n",
       "\n",
       "                                                               712  \\\n",
       "reverse_geocode  {'city': 'Tangerang Kota', 'state': '', 'city_...   \n",
       "\n",
       "                                                               713  \\\n",
       "reverse_geocode  {'city': 'Bekasi Kota', 'state': '', 'city_pag...   \n",
       "\n",
       "                                                               714  \\\n",
       "reverse_geocode  {'city': 'Tangerang Kota', 'state': '', 'city_...   \n",
       "\n",
       "                                                               715  \n",
       "reverse_geocode  {'city': 'Jakarta Pusat', 'state': '', 'city_p...  \n",
       "\n",
       "[1 rows x 716 columns]"
      ]
     },
     "execution_count": 14,
     "metadata": {},
     "output_type": "execute_result"
    }
   ],
   "source": [
    "df.head()"
   ]
  },
  {
   "cell_type": "code",
   "execution_count": 15,
   "id": "fd7b59bc-bb18-4b9a-ba4d-f93575ffe4c6",
   "metadata": {},
   "outputs": [],
   "source": [
    "df1 = df.iloc[0]"
   ]
  },
  {
   "cell_type": "code",
   "execution_count": 16,
   "id": "96a4e692-1eb1-41ed-852e-80eb851748c0",
   "metadata": {},
   "outputs": [
    {
     "data": {
      "text/plain": [
       "0      {'city': 'Tangerang Kabupaten', 'state': '', '...\n",
       "1      {'city': 'Jakarta Pusat', 'state': '', 'city_p...\n",
       "2      {'city': 'Jakarta Selatan', 'state': '', 'city...\n",
       "3      {'city': 'Sukabumi Kota', 'state': '', 'city_p...\n",
       "4      {'city': 'Bekasi Kota', 'state': '', 'city_pag...\n",
       "                             ...                        \n",
       "711    {'city': 'Jakarta Timur', 'state': '', 'city_p...\n",
       "712    {'city': 'Tangerang Kota', 'state': '', 'city_...\n",
       "713    {'city': 'Bekasi Kota', 'state': '', 'city_pag...\n",
       "714    {'city': 'Tangerang Kota', 'state': '', 'city_...\n",
       "715    {'city': 'Jakarta Pusat', 'state': '', 'city_p...\n",
       "Name: reverse_geocode, Length: 716, dtype: object"
      ]
     },
     "execution_count": 16,
     "metadata": {},
     "output_type": "execute_result"
    }
   ],
   "source": [
    "df1"
   ]
  },
  {
   "cell_type": "code",
   "execution_count": 17,
   "id": "4a701cbe-fd0e-42fe-9c92-1c163cb02e04",
   "metadata": {},
   "outputs": [],
   "source": [
    "df1.to_json('cleanedLocationV2.json')"
   ]
  },
  {
   "cell_type": "code",
   "execution_count": null,
   "id": "bb2ea4ec-a822-417e-9195-8970e27bec2e",
   "metadata": {},
   "outputs": [],
   "source": []
  }
 ],
 "metadata": {
  "kernelspec": {
   "display_name": "Python 3 (ipykernel)",
   "language": "python",
   "name": "python3"
  },
  "language_info": {
   "codemirror_mode": {
    "name": "ipython",
    "version": 3
   },
   "file_extension": ".py",
   "mimetype": "text/x-python",
   "name": "python",
   "nbconvert_exporter": "python",
   "pygments_lexer": "ipython3",
   "version": "3.12.7"
  }
 },
 "nbformat": 4,
 "nbformat_minor": 5
}
