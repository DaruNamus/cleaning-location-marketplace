{
 "cells": [
  {
   "cell_type": "code",
   "execution_count": 1,
   "id": "7392dab9-aab0-42a2-a9fa-10e4e46d3d39",
   "metadata": {},
   "outputs": [],
   "source": [
    "import pandas as pd"
   ]
  },
  {
   "cell_type": "code",
   "execution_count": 4,
   "id": "c01502fe-600c-4204-8d29-5ee1da702a64",
   "metadata": {},
   "outputs": [],
   "source": [
    "marketplace = pd.read_json('dataset_facebook-marketplace-scraper_2024-11-03_05-03-09-937.json')"
   ]
  },
  {
   "cell_type": "code",
   "execution_count": 5,
   "id": "88bd8de8-c7ef-4ce8-8e89-ea0521ae17b6",
   "metadata": {},
   "outputs": [],
   "source": [
    "df = marketplace['location']"
   ]
  },
  {
   "cell_type": "code",
   "execution_count": 6,
   "id": "2fd7cc12-e546-42f3-a3b1-964970f36f56",
   "metadata": {},
   "outputs": [
    {
     "data": {
      "text/plain": [
       "0    {'reverse_geocode': {'city': 'Tangerang Kabupa...\n",
       "1    {'reverse_geocode': {'city': 'Jakarta Pusat', ...\n",
       "2    {'reverse_geocode': {'city': 'Jakarta Selatan'...\n",
       "3    {'reverse_geocode': {'city': 'Sukabumi Kota', ...\n",
       "4    {'reverse_geocode': {'city': 'Bekasi Kota', 's...\n",
       "Name: location, dtype: object"
      ]
     },
     "execution_count": 6,
     "metadata": {},
     "output_type": "execute_result"
    }
   ],
   "source": [
    "df.head()"
   ]
  },
  {
   "cell_type": "code",
   "execution_count": 15,
   "id": "f42a39d4-e45b-4ec1-a3b0-7cffd0c8ba5f",
   "metadata": {},
   "outputs": [
    {
     "name": "stdout",
     "output_type": "stream",
     "text": [
      "0      {'reverse_geocode': {'city': 'Tangerang Kabupa...\n",
      "1      {'reverse_geocode': {'city': 'Jakarta Pusat', ...\n",
      "2      {'reverse_geocode': {'city': 'Jakarta Selatan'...\n",
      "3      {'reverse_geocode': {'city': 'Sukabumi Kota', ...\n",
      "4      {'reverse_geocode': {'city': 'Bekasi Kota', 's...\n",
      "                             ...                        \n",
      "711    {'reverse_geocode': {'city': 'Jakarta Timur', ...\n",
      "712    {'reverse_geocode': {'city': 'Tangerang Kota',...\n",
      "713    {'reverse_geocode': {'city': 'Bekasi Kota', 's...\n",
      "714    {'reverse_geocode': {'city': 'Tangerang Kota',...\n",
      "715    {'reverse_geocode': {'city': 'Jakarta Pusat', ...\n",
      "Name: location, Length: 716, dtype: object\n"
     ]
    }
   ],
   "source": [
    "print(df)"
   ]
  },
  {
   "cell_type": "code",
   "execution_count": 16,
   "id": "b6ef9bca-435a-4128-917a-da016db49163",
   "metadata": {},
   "outputs": [],
   "source": [
    "df.to_json('locationMP.json')"
   ]
  }
 ],
 "metadata": {
  "kernelspec": {
   "display_name": "Python 3 (ipykernel)",
   "language": "python",
   "name": "python3"
  },
  "language_info": {
   "codemirror_mode": {
    "name": "ipython",
    "version": 3
   },
   "file_extension": ".py",
   "mimetype": "text/x-python",
   "name": "python",
   "nbconvert_exporter": "python",
   "pygments_lexer": "ipython3",
   "version": "3.12.7"
  }
 },
 "nbformat": 4,
 "nbformat_minor": 5
}
